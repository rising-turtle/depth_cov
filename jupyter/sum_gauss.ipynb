{
 "cells": [
  {
   "cell_type": "code",
   "execution_count": 1,
   "metadata": {},
   "outputs": [],
   "source": [
    "import matplotlib.pyplot as plt\n",
    "import numpy as np\n",
    "import scipy.stats as stats\n",
    "import math"
   ]
  },
  {
   "cell_type": "code",
   "execution_count": 113,
   "metadata": {},
   "outputs": [
    {
     "name": "stdout",
     "output_type": "stream",
     "text": [
      "mu:  0.35133087812828623 std:  0.17391873509391473\n"
     ]
    },
    {
     "data": {
      "image/png": "[encoded data removed]",
      "text/plain": [
       "<Figure size 432x288 with 1 Axes>"
      ]
     },
     "metadata": {
      "needs_background": "light"
     },
     "output_type": "display_data"
    }
   ],
   "source": [
    "u1 = 1.5\n",
    "u2 = 2.5\n",
    "u3 = 3.5\n",
    "u4 = 4.5\n",
    "u5 = 5.5\n",
    "u6 = 6.5\n",
    "s1 = 0.015\n",
    "s2 = 0.025\n",
    "s3 = 0.035\n",
    "s4 = 0.045\n",
    "s5 = 0.055\n",
    "s6 = 0.065\n",
    "\n",
    "X1 = np.random.normal(u1, s1, 200)\n",
    "X2 = np.random.normal(u2, s2, 200)\n",
    "X3 = np.random.normal(u3, s3, 200)\n",
    "X4 = np.random.normal(u4, s4, 200)\n",
    "X5 = np.random.normal(u5, s5, 200)\n",
    "# X6 = np.random.normal(u6, s6, 200)\n",
    "\n",
    "X0 = np.concatenate((X1, X2, X3, X4, X5))\n",
    "Y = 1./X0\n",
    "\n",
    "mu = np.mean(Y)\n",
    "std = np.std(Y)\n",
    "print('mu: ', mu, 'std: ', std )\n",
    "# x = np.linspace(mu - 3*std, mu + 3*std, 100)\n",
    "# plt.plot(x, stats.norm.pdf(x, mu, std))\n",
    "plt.hist(Y, 30, density=True, alpha=0.5, color='steelblue' )\n",
    "plt.show()"
   ]
  },
  {
   "cell_type": "code",
   "execution_count": 103,
   "metadata": {},
   "outputs": [
    {
     "name": "stdout",
     "output_type": "stream",
     "text": [
      "u0:  3.5 s0:  1.4147172862448525\n",
      "inverse s0:  0.11548712540774306\n",
      "np_u0:  3.498656760418483 np_s0:  1.4133613227578377\n"
     ]
    },
    {
     "data": {
      "image/png": "[encoded data removed]",
      "text/plain": [
       "<Figure size 432x288 with 1 Axes>"
      ]
     },
     "metadata": {
      "needs_background": "light"
     },
     "output_type": "display_data"
    }
   ],
   "source": [
    "def SQ(x):\n",
    "    return ((x)*(x))\n",
    "\n",
    "u0 = (u1 + u2 + u3 + u4 + u5) / 5.\n",
    "s0 = math.sqrt((s1*s1 + s2*s2 + s3*s3 + s4*s4 + s5*s5)/5. + (SQ(u1-u0) + SQ(u2-u0) + SQ(u3-u0) + SQ(u4-u0) + SQ(u5-u0))/5.)\n",
    "\n",
    "# a1 = (SQ(u1-u0) + SQ(u2-u0) + SQ(u3-u0) + SQ(u4-u0) + SQ(u5-u0))/5.\n",
    "# b1 = (s1*s1 + s2*s2 + s3*s3 + s4*s4 + s5*s5)/5 \n",
    "\n",
    "print('u0: ',u0, 's0: ', s0)\n",
    "\n",
    "X11 = np.random.normal(u1, s1, 200)\n",
    "X22 = np.random.normal(u2, s2, 200)\n",
    "X33 = np.random.normal(u3, s3, 200)\n",
    "X44 = np.random.normal(u4, s4, 200)\n",
    "X55 = np.random.normal(u5, s5, 200)\n",
    "\n",
    "X0 = np.concatenate((X11, X22, X33, X44, X55))\n",
    "np_u0 = np.mean(X0)\n",
    "np_s0 = np.std(X0)\n",
    "\n",
    "is0 = s0/SQ(u0) \n",
    "print('inverse s0: ', is0)\n",
    "\n",
    "print('np_u0: ',np_u0, 'np_s0: ', np_s0)\n",
    "t = np.linspace(u0 - 3*np_s0, u0 + 3*np_s0, 100)\n",
    "plt.plot(t, stats.norm.pdf(t, u0, np_s0))\n",
    "plt.hist(X0, 30, density=True, alpha=0.5, color='steelblue' )\n",
    "plt.show()\n"
   ]
  },
  {
   "cell_type": "code",
   "execution_count": 83,
   "metadata": {},
   "outputs": [
    {
     "name": "stdout",
     "output_type": "stream",
     "text": [
      "[ 2.09378511  3.35917156  0.786965   -4.55759102 -0.82127367 -0.38494673\n",
      "  1.09657165 -0.82524119 -1.36177122 -0.68602613  2.09378511  3.35917156\n",
      "  0.786965   -4.55759102 -0.82127367]\n"
     ]
    }
   ],
   "source": [
    "x = np.random.normal(1, 2, 5)\n",
    "y = np.random.normal(0, 1, 5)\n",
    "z = np.concatenate((x,y,x))\n",
    "\n",
    "print(z)"
   ]
  },
  {
   "cell_type": "code",
   "execution_count": null,
   "metadata": {},
   "outputs": [],
   "source": [
    "math.sqrt"
   ]
  },
  {
   "cell_type": "code",
   "execution_count": null,
   "metadata": {},
   "outputs": [],
   "source": []
  },
  {
   "cell_type": "code",
   "execution_count": null,
   "metadata": {},
   "outputs": [],
   "source": []
  }
 ],
 "metadata": {
  "kernelspec": {
   "display_name": "Python 3",
   "language": "python",
   "name": "python3"
  },
  "language_info": {
   "codemirror_mode": {
    "name": "ipython",
    "version": 3
   },
   "file_extension": ".py",
   "mimetype": "text/x-python",
   "name": "python",
   "nbconvert_exporter": "python",
   "pygments_lexer": "ipython3",
   "version": "3.7.4"
  }
 },
 "nbformat": 4,
 "nbformat_minor": 2
}
